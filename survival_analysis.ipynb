{
 "cells": [
  {
   "cell_type": "markdown",
   "metadata": {},
   "source": [
    "## 基础概念\n",
    "The probability density function (PDF) 概率密度函数\n",
    " $$PDF:f(t)$$\n",
    "cumulative distribution function (CDF) 累计分布函数\n",
    "- 含义: 从负无穷到t时刻的死亡概率 [来自](https://zhuanlan.zhihu.com/p/110764631)\n",
    "$$CDF: F(t) = P(T ≤ t)  ,{ F(0) = P(T = 0) } $$\n",
    "Survivor function (or [Failure rate](https://en.wikipedia.org/wiki/Failure_rate)) 生存函数\n",
    "- 含义: 生存超过某个时间的概率，即关注事件在时间或以内都未发生的概率\n",
    "$$S(t) ≝ 1 - F(t) = P(T > t) for t > 0$$\n",
    "Hazard function 风险函数\n",
    "- 含义：风险函数关注事件在时刻发生的概率, 也被称为在t时刻 (瞬间) 发生的风险\n",
    "- 从定义里面可以看出“风险率”描述的是已经存活了t时间的事物在当前时间点t的瞬时死亡概率密度，并不是概率，所以它可以大于1。风险率可以看成是一个关于时间的函数，所以风险率也叫风险函数。如果选取一小段区间，则该区间的累积死亡概率近似等于 风险率*区间，意味着风险率越大死亡越多，风险率越小死亡越少，所以通过风险率就可以预估在时间t物体将要死亡的可能性，风险率越大死亡的可能性越大，风险率越小死亡的可能性越小。这就是风险率函数的一个实际意义。来自[知乎](https://www.zhihu.com/question/297553384/answer/1016449898)\n",
    "$$\n",
    "P(t,s) = \\Pr(t < T < s | T \\geq t) \\\\\n",
    "h(t) = \\lim_{s \\to t} \\frac{P(t,s)}{s-t} \n",
    "$$\n",
    "\n",
    "$$\n",
    "h(t) = \\lim_{\\Delta t \\to 0} \\frac{\\Pr[t \\leq T < t + \\Delta t | T \\geq t]}{\\Delta t} \\\\\n",
    "\n",
    "= \\lim_{s \\to t} \\frac{\\Pr(t,s)}{s-t} \\\\\n",
    "= \\frac{f(t)}{S(t)}\n",
    "$$\n",
    "\n",
    "Cumulative hazard function 累积风险函数 \n",
    "- 含义: 关注事件到t时刻为止发生的概率，相比较风险函数更容易被精确估计\n",
    "\n",
    "$$\n",
    "H(t) = \\int_0^t h(s)ds \\\\\n",
    "= -ln[1-F(t)] = - \\ln S(t)\n",
    "$$\n",
    "\n",
    "Note that\n",
    "$$\n",
    "S(t) = e^{-H(t)}\n",
    "$$\n",
    "$$\n",
    "f(t) = h(t)e^{-H(t)} \n",
    "$$\n",
    "\n",
    "Note 1: Note that h(t)dt = f(t)dt/S(t) ~ Pr[fail in  [t,t+dt) |survive until t]. Thus, the hazard function might be of more intrinsic interest than the PDF to a patient who had survived a certain time period and wanted to know something about their prognosis. cite (BIO 244: Unit 1\n",
    "Survival Distributions, Hazard Functions, Cumulative\n",
    "Hazards)\n",
    "\n",
    "For example:Exponential Distribution: denoted $T \\sim Exp(\\lambda)$. For $t > 0$,\n",
    "\n",
    "$f(t) = \\lambda e^{-\\lambda t}$ for $\\lambda > 0$ (scale parameter)\n",
    "\n",
    "$F(t) = 1 - e^{-\\lambda t}$ $S(t) = e^{-\\lambda t}$\n",
    "\n",
    "$h(t) = \\lambda$ $\\implies$ constant hazard function\n",
    "\n",
    "$H(t) = \\lambda t$\n",
    "\n",
    "可以看出指数分布中hazard rate是个常数浪哒，即某事件在单位时间内发生的平均次数，也可以大于1。说明在指数分布中，物体死亡概率不变，旧的物体和新的物体一样容易死亡，可以refer to memoryless property, 但这在现实世界是不合理的.来自[知乎](https://www.zhihu.com/question/297553384/answer/1634759210)"
   ]
  },
  {
   "cell_type": "markdown",
   "metadata": {},
   "source": [
    "## [Weibull distribution](https://en.wikipedia.org/wiki/Weibull_distribution) 威布尔分布\n",
    "\n",
    "$$ PDF(x; k, \\lambda)=f(x) = \\frac{k}{\\lambda} \\left(\\frac{x}{\\lambda}\\right)^{k-1} e^{-(x/\\lambda)^k} $$\n",
    "where k > 0 is the shape parameter and λ > 0 is the scale parameter of the distribution.\n",
    "$$ CDF(x; k, \\lambda)=F(x) = 1 - e^{-(x/\\lambda)^k} $$\n",
    "$$S(t) ≝ 1 - F(x) = e^{-(x/\\lambda)^k} $$\n",
    "$$ h(t) = F(x)/S(x) = \\frac{1 - e^{-(x/\\lambda)^k}} {e^{-(x/\\lambda)^k}}  $$\n",
    "[If the quantity X is a \"time-to-failure\", the Weibull distribution gives a distribution for which the failure rate is proportional to a power of time. The shape parameter, k, is that power plus one, and so this parameter can be interpreted directly as follows](https://en.wikipedia.org/wiki/Weibull_distribution)\n",
    "- A value of k<1 indicates that the failure rate decreases over time\n",
    "- A value of k=1 indicates that the failure rate is constant over time. The Weibull distribution reduces to an exponential distribution\n",
    "- A value of k>1 indicates that the failure rate increases with time. This happens if there is an \"aging\" process, or parts that are more likely to fail as time goes on. In the context of the diffusion of innovations, this means positive word of mouth: the hazard function is a monotonically increasing function of the proportion of adopters.\n"
   ]
  },
  {
   "cell_type": "markdown",
   "metadata": {},
   "source": [
    "Maximum Likelihood Estimation (MLE) 极大似然估计\n"
   ]
  },
  {
   "cell_type": "code",
   "execution_count": null,
   "metadata": {},
   "outputs": [],
   "source": []
  }
 ],
 "metadata": {
  "kernelspec": {
   "display_name": "test_code",
   "language": "python",
   "name": "python3"
  },
  "language_info": {
   "codemirror_mode": {
    "name": "ipython",
    "version": 3
   },
   "file_extension": ".py",
   "mimetype": "text/x-python",
   "name": "python",
   "nbconvert_exporter": "python",
   "pygments_lexer": "ipython3",
   "version": "3.8.12"
  }
 },
 "nbformat": 4,
 "nbformat_minor": 2
}
