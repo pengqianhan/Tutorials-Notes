{
 "cells": [
  {
   "cell_type": "markdown",
   "metadata": {},
   "source": [
    "本教程来源 [抛开数学，轻松学懂 VAE](https://zhouyifan.net/2022/12/19/20221016-VAE/)"
   ]
  },
  {
   "cell_type": "code",
   "execution_count": null,
   "metadata": {},
   "outputs": [],
   "source": [
    "###下载好了图片后，可以用下面的代码创建Dataloader\n",
    "import os\n",
    "\n",
    "import torch\n",
    "from PIL import Image\n",
    "from torch.utils.data import DataLoader, Dataset\n",
    "from torchvision import transforms\n",
    "\n",
    "\n",
    "class CelebADataset(Dataset):\n",
    "    def __init__(self, root, img_shape=(64, 64)) -> None:\n",
    "        super().__init__()\n",
    "        self.root = root\n",
    "        self.img_shape = img_shape\n",
    "        self.filenames = sorted(os.listdir(root))\n",
    "\n",
    "    def __len__(self) -> int:\n",
    "        return len(self.filenames)\n",
    "\n",
    "    def __getitem__(self, index: int):\n",
    "        path = os.path.join(self.root, self.filenames[index])\n",
    "        img = Image.open(path).convert('RGB')\n",
    "        pipeline = transforms.Compose([\n",
    "            transforms.CenterCrop(168),\n",
    "            transforms.Resize(self.img_shape),\n",
    "            transforms.ToTensor()\n",
    "        ])\n",
    "        return pipeline(img)\n",
    "\n",
    "\n",
    "def get_dataloader(root='data/celebA/img_align_celeba', **kwargs):\n",
    "    dataset = CelebADataset(root, **kwargs)\n",
    "    return DataLoader(dataset, 16, shuffle=True)"
   ]
  },
  {
   "cell_type": "code",
   "execution_count": null,
   "metadata": {},
   "outputs": [],
   "source": [
    "if __name__ == '__main__':\n",
    "    data_path = 'data/celebA/img_align_celeba'\n",
    "    dataloader = get_dataloader()\n",
    "    img = next(iter(dataloader))\n",
    "    print(img.shape)\n",
    "    # Concat 4x4 images\n",
    "    N, C, H, W = img.shape\n",
    "    assert N == 16\n",
    "    img = torch.permute(img, (1, 0, 2, 3))\n",
    "    img = torch.reshape(img, (C, 4, 4 * H, W))\n",
    "    img = torch.permute(img, (0, 2, 1, 3))\n",
    "    img = torch.reshape(img, (C, 4 * H, 4 * W))\n",
    "    img = transforms.ToPILImage()(img)\n",
    "    img.save('work_dirs/tmp.jpg')"
   ]
  },
  {
   "cell_type": "code",
   "execution_count": null,
   "metadata": {},
   "outputs": [],
   "source": []
  }
 ],
 "metadata": {
  "kernelspec": {
   "display_name": "test_code",
   "language": "python",
   "name": "python3"
  },
  "language_info": {
   "codemirror_mode": {
    "name": "ipython",
    "version": 3
   },
   "file_extension": ".py",
   "mimetype": "text/x-python",
   "name": "python",
   "nbconvert_exporter": "python",
   "pygments_lexer": "ipython3",
   "version": "3.10.9"
  }
 },
 "nbformat": 4,
 "nbformat_minor": 2
}
